{
  "nbformat": 4,
  "nbformat_minor": 0,
  "metadata": {
    "kernelspec": {
      "display_name": "Python 3",
      "language": "python",
      "name": "python3"
    },
    "language_info": {
      "codemirror_mode": {
        "name": "ipython",
        "version": 3
      },
      "file_extension": ".py",
      "mimetype": "text/x-python",
      "name": "python",
      "nbconvert_exporter": "python",
      "pygments_lexer": "ipython3",
      "version": "3.7.6"
    },
    "colab": {
      "name": "preditor.ipynb",
      "provenance": [],
      "collapsed_sections": [],
      "include_colab_link": true
    }
  },
  "cells": [
    {
      "cell_type": "markdown",
      "metadata": {
        "id": "view-in-github",
        "colab_type": "text"
      },
      "source": [
        "<a href=\"https://colab.research.google.com/github/RenanProjetos/FiqueEmCasaConf/blob/master/ArtigoCientifico.ipynb\" target=\"_parent\"><img src=\"https://colab.research.google.com/assets/colab-badge.svg\" alt=\"Open In Colab\"/></a>"
      ]
    },
    {
      "cell_type": "code",
      "metadata": {
        "scrolled": false,
        "id": "mj9bnUIaVeNw",
        "colab_type": "code",
        "colab": {},
        "outputId": "449109ae-adcb-45ca-eb5b-6511f7e56c05"
      },
      "source": [
        "# pip install quandl"
      ],
      "execution_count": 0,
      "outputs": [
        {
          "output_type": "stream",
          "text": [
            "Requirement already satisfied: quandl in c:\\programdata\\anaconda3\\lib\\site-packages (3.5.0)\n",
            "Requirement already satisfied: requests>=2.7.0 in c:\\programdata\\anaconda3\\lib\\site-packages (from quandl) (2.22.0)\n",
            "Requirement already satisfied: pandas>=0.14 in c:\\programdata\\anaconda3\\lib\\site-packages (from quandl) (1.0.1)\n",
            "Requirement already satisfied: python-dateutil in c:\\programdata\\anaconda3\\lib\\site-packages (from quandl) (2.8.1)\n",
            "Requirement already satisfied: inflection>=0.3.1 in c:\\programdata\\anaconda3\\lib\\site-packages (from quandl) (0.4.0)\n",
            "Requirement already satisfied: numpy>=1.8 in c:\\programdata\\anaconda3\\lib\\site-packages (from quandl) (1.18.1)\n",
            "Requirement already satisfied: more-itertools in c:\\programdata\\anaconda3\\lib\\site-packages (from quandl) (8.2.0)\n",
            "Requirement already satisfied: six in c:\\programdata\\anaconda3\\lib\\site-packages (from quandl) (1.14.0)\n",
            "Requirement already satisfied: idna<2.9,>=2.5 in c:\\programdata\\anaconda3\\lib\\site-packages (from requests>=2.7.0->quandl) (2.8)\n",
            "Requirement already satisfied: certifi>=2017.4.17 in c:\\programdata\\anaconda3\\lib\\site-packages (from requests>=2.7.0->quandl) (2019.11.28)\n",
            "Requirement already satisfied: chardet<3.1.0,>=3.0.2 in c:\\programdata\\anaconda3\\lib\\site-packages (from requests>=2.7.0->quandl) (3.0.4)\n",
            "Requirement already satisfied: urllib3!=1.25.0,!=1.25.1,<1.26,>=1.21.1 in c:\\programdata\\anaconda3\\lib\\site-packages (from requests>=2.7.0->quandl) (1.25.8)\n",
            "Requirement already satisfied: pytz>=2017.2 in c:\\programdata\\anaconda3\\lib\\site-packages (from pandas>=0.14->quandl) (2019.3)\n",
            "Note: you may need to restart the kernel to use updated packages.\n"
          ],
          "name": "stdout"
        }
      ]
    },
    {
      "cell_type": "code",
      "metadata": {
        "id": "_CnxrP6uVeOC",
        "colab_type": "code",
        "colab": {
          "base_uri": "https://localhost:8080/",
          "height": 71
        },
        "outputId": "d3f6b6fa-aa5d-4cdb-fd3c-71735fc05acc"
      },
      "source": [
        "#Programa para predição de valores da bolsa usando machne learning\n",
        "# Instalando as Dependências\n",
        "\n",
        "# import quandl # Disponibiliza dados do sistema de séries temporais\n",
        "import numpy as np # Realiza cálculos em Arrays Multidimensionais.-(Usado no Modelo Machine Learning)\n",
        "import pandas_datareader as web\n",
        "import pandas as pd \n",
        "from sklearn.linear_model import LinearRegression # Se ajusta a um modelo Linear,para minimizar a soma residual dos quadrados entre os alvos observados no conjunto de dados e os alvos previstos pela aproximação linear.\n",
        "from sklearn.svm import SVR # Classificação de Vetores\n",
        "from sklearn.model_selection import train_test_split # Divide arrays e matrizes em subconjuntos aleatórios para teste,inserire dados em uma única chamada para dividir (com opção de subamostrar).\n",
        "import matplotlib.pyplot as plt # Biblioteca para Gráficos\n",
        "plt.style.use('fivethirtyeight') # Estilo Padrão para Trabalhos Acadêmicos"
      ],
      "execution_count": 4,
      "outputs": [
        {
          "output_type": "stream",
          "text": [
            "/usr/local/lib/python3.6/dist-packages/pandas_datareader/compat/__init__.py:7: FutureWarning: pandas.util.testing is deprecated. Use the functions in the public API at pandas.testing instead.\n",
            "  from pandas.util.testing import assert_frame_equal\n"
          ],
          "name": "stderr"
        }
      ]
    },
    {
      "cell_type": "code",
      "metadata": {
        "id": "keyF2V08VeOI",
        "colab_type": "code",
        "colab": {
          "base_uri": "https://localhost:8080/",
          "height": 136
        },
        "outputId": "47a143a9-5d54-4e98-9209-26b32bab1310"
      },
      "source": [
        "# Pegando os dados das Ações\n",
        "#Facebook, utilizando a API key registrada no quandl\n",
        "# df = quandl.get(\"NASDAQOMX/XQC\", api_key='uNowRc9u3vFRYiom7vjz') \n",
        "# quandl.ApiConfig.api_key = 'uNowRc9u3vFRYiom7vjz'\n",
        "# df = quandl.get(\"NASDAQOMX/NQBR6000GBPT\",start_date='2020-01-01', end_date='2020-06-01')\n",
        "#Brasil Telecon\n",
        "#Visualizando os Dados\n",
        "df = web.DataReader(\"BBD\", data_source='yahoo', start= '2005-01-01', end= '2020-06-01') # BANCO BRADESCO = BBD\n",
        "print(df.head())"
      ],
      "execution_count": 78,
      "outputs": [
        {
          "output_type": "stream",
          "text": [
            "                High       Low      Open     Close      Volume  Adj Close\n",
            "Date                                                                     \n",
            "2005-01-03  2.645254  2.585775  2.618123  2.589949   1616500.0   1.103178\n",
            "2005-01-04  2.634819  2.450121  2.614993  2.451164   5977800.0   1.044063\n",
            "2005-01-05  2.502296  2.416729  2.473078  2.431338  10038200.0   1.035618\n",
            "2005-01-06  2.443860  2.348902  2.432382  2.348902   2949400.0   1.000505\n",
            "2005-01-07  2.410468  2.338467  2.374990  2.387511   2826900.0   1.016949\n"
          ],
          "name": "stdout"
        }
      ]
    },
    {
      "cell_type": "code",
      "metadata": {
        "id": "RLFcLJyYVeOP",
        "colab_type": "code",
        "colab": {
          "base_uri": "https://localhost:8080/",
          "height": 577
        },
        "outputId": "8d5f91d6-b1ea-4345-ab7b-a4c626cd7bd4"
      },
      "source": [
        "# Pegando o valor ajustado após o mercado de ações fechar\n",
        "df = df[['Adj Close']] # Valor da Ação Após o Mercado Fechar\n",
        "#Observando os Novos Dados\n",
        "print(df.head())\n",
        "# Fazendo o Gráfico\n",
        "plt.figure(figsize=(16,8))\n",
        "plt.title('Valor após o mercado fechar ')\n",
        "plt.plot(df['Adj Close'])\n",
        "plt.xlabel('Período', fontsize=18)\n",
        "plt.ylabel('Preço em Dólar USD ($)', fontsize=18)\n",
        "plt.show()"
      ],
      "execution_count": 79,
      "outputs": [
        {
          "output_type": "stream",
          "text": [
            "            Adj Close\n",
            "Date                 \n",
            "2005-01-03   1.103178\n",
            "2005-01-04   1.044063\n",
            "2005-01-05   1.035618\n",
            "2005-01-06   1.000505\n",
            "2005-01-07   1.016949\n"
          ],
          "name": "stdout"
        },
        {
          "output_type": "display_data",
          "data": {
            "image/png": "[encoded data removed]",
            "text/plain": [
              "<Figure size 1152x576 with 1 Axes>"
            ]
          },
          "metadata": {
            "tags": []
          }
        }
      ]
    },
    {
      "cell_type": "code",
      "metadata": {
        "scrolled": true,
        "id": "6tRyD4prVeOW",
        "colab_type": "code",
        "colab": {
          "base_uri": "https://localhost:8080/",
          "height": 136
        },
        "outputId": "4ff82b97-61af-4116-fc81-ebb17483a819"
      },
      "source": [
        "# Variavel para predição de 'x' dias \n",
        "forecast_out = 30\n",
        "# Criação de outra coluna (Variavel Alvo = variável cujos valores devem ser modelados e previstos por outras variáveis.)\n",
        "# Deslocando 'x' unidades para cima\n",
        "df['Predição'] = df[['Adj Close']].shift(-forecast_out)\n",
        "# Mostrando o novo Data Set = Conjunto de Dados\n",
        "print(df.tail())"
      ],
      "execution_count": 80,
      "outputs": [
        {
          "output_type": "stream",
          "text": [
            "            Adj Close  Predição\n",
            "Date                           \n",
            "2020-05-26   3.576724       NaN\n",
            "2020-05-27   3.686623       NaN\n",
            "2020-05-28   3.556742       NaN\n",
            "2020-05-29   3.456834       NaN\n",
            "2020-06-01   3.636669       NaN\n"
          ],
          "name": "stdout"
        }
      ]
    },
    {
      "cell_type": "code",
      "metadata": {
        "id": "6p7GIN4NVeOf",
        "colab_type": "code",
        "colab": {
          "base_uri": "https://localhost:8080/",
          "height": 136
        },
        "outputId": "061c8e66-1feb-4fc0-d19d-b1070befdef6"
      },
      "source": [
        "## Criando um Data Set Indiferente (y) ##\n",
        "# Convertendo o DataFrame = Tabela da Base de Dados para um Numpy Array = Todos os elemento são do mesmo Tipo #\n",
        "y = np.array(df.drop(['Predição'],1)) # Lista da lista, lista = ['Adj. Close']\n",
        "# Removendo a ultima linha da variável 'x = dias' previstos\n",
        "y = y[:-forecast_out]\n",
        "print(y)"
      ],
      "execution_count": 81,
      "outputs": [
        {
          "output_type": "stream",
          "text": [
            "[[1.10317814]\n",
            " [1.04406297]\n",
            " [1.03561831]\n",
            " ...\n",
            " [3.89189458]\n",
            " [3.76216459]\n",
            " [3.84199834]]\n"
          ],
          "name": "stdout"
        }
      ]
    },
    {
      "cell_type": "code",
      "metadata": {
        "id": "PqS40orpVeOm",
        "colab_type": "code",
        "colab": {
          "base_uri": "https://localhost:8080/",
          "height": 34
        },
        "outputId": "19a9afe2-50e8-4ea0-82e4-e9f44fea92c1"
      },
      "source": [
        "# Criando um conjunto de dados dependente (dep) #\n",
        "# Convertendo o Dataframe = Tabela da Base de Dados para um Numpy Array = elementos do mesmo tipo,\n",
        "# Incluindo todos os valores e os NaN = predições\n",
        "dep = np.array(df['Predição'])\n",
        "# Pegando todos os 'dep' valores exceto as linhas = 'x'\n",
        "dep = dep[:-forecast_out]\n",
        "print(dep)"
      ],
      "execution_count": 82,
      "outputs": [
        {
          "output_type": "stream",
          "text": [
            "[1.36386526 1.35719228 1.35229874 ... 3.55674219 3.45683384 3.63666916]\n"
          ],
          "name": "stdout"
        }
      ]
    },
    {
      "cell_type": "code",
      "metadata": {
        "id": "ZtJxEi4dVeOw",
        "colab_type": "code",
        "colab": {}
      },
      "source": [
        "# Agora que temos 2 datasets, aconteçe a divisão dos mesmos em em 80% treinamento e 20% teste\n",
        "x_train, x_test, y_train, y_test = train_test_split(y, dep, test_size=0.2)"
      ],
      "execution_count": 0,
      "outputs": []
    },
    {
      "cell_type": "code",
      "metadata": {
        "id": "RxsIgTSaVeO3",
        "colab_type": "code",
        "colab": {
          "base_uri": "https://localhost:8080/",
          "height": 51
        },
        "outputId": "8b88cb1c-b60b-4dc2-dbc5-89ea982ecc2c"
      },
      "source": [
        "# Criando e treinando o suporte da maquina de vetores (Regressor)\n",
        "# regressão e uma técnica que permite explorar e inferir a relação de uma variável dependente com variáveis independentes\n",
        "svr_rbf = SVR(kernel='rbf', C=1e3, gamma=0.1)\n",
        "svr_rbf.fit(x_train, y_train)"
      ],
      "execution_count": 84,
      "outputs": [
        {
          "output_type": "execute_result",
          "data": {
            "text/plain": [
              "SVR(C=1000.0, cache_size=200, coef0=0.0, degree=3, epsilon=0.1, gamma=0.1,\n",
              "    kernel='rbf', max_iter=-1, shrinking=True, tol=0.001, verbose=False)"
            ]
          },
          "metadata": {
            "tags": []
          },
          "execution_count": 84
        }
      ]
    },
    {
      "cell_type": "code",
      "metadata": {
        "id": "Xd74lf4bVeO9",
        "colab_type": "code",
        "colab": {
          "base_uri": "https://localhost:8080/",
          "height": 34
        },
        "outputId": "f419f07d-c1a2-41a9-9f14-50e4feac0ec8"
      },
      "source": [
        "# Testando o modelo: Percentual gerado que Retorna os valres do coeficiente de determinação = R^2 da Predição\n",
        "# O melhor percentual possivel é 1.0\n",
        "svm_confidence = svr_rbf.score(x_test, y_test)\n",
        "print(\"svm_confidence: \", svm_confidence)"
      ],
      "execution_count": 85,
      "outputs": [
        {
          "output_type": "stream",
          "text": [
            "svm_confidence:  0.8471237637668638\n"
          ],
          "name": "stdout"
        }
      ]
    },
    {
      "cell_type": "code",
      "metadata": {
        "id": "STXup94WVePD",
        "colab_type": "code",
        "colab": {
          "base_uri": "https://localhost:8080/",
          "height": 34
        },
        "outputId": "e3b81533-fdaf-4d5d-f988-0454ba2c2343"
      },
      "source": [
        "# Criando e Treinando um Modelo de Regressão Linear\n",
        "lin = LinearRegression()\n",
        "# Treinando o Modelo\n",
        "lin.fit(x_train, y_train)"
      ],
      "execution_count": 86,
      "outputs": [
        {
          "output_type": "execute_result",
          "data": {
            "text/plain": [
              "LinearRegression(copy_X=True, fit_intercept=True, n_jobs=None, normalize=False)"
            ]
          },
          "metadata": {
            "tags": []
          },
          "execution_count": 86
        }
      ]
    },
    {
      "cell_type": "code",
      "metadata": {
        "id": "wfp7H-FTVePJ",
        "colab_type": "code",
        "colab": {
          "base_uri": "https://localhost:8080/",
          "height": 34
        },
        "outputId": "a8588860-f3d8-4a85-dc70-b03b038ec81d"
      },
      "source": [
        "# Testando o modelo Linear\n",
        "lin_confidence = lin.score(x_test, y_test)\n",
        "print(\"lin_confidence: \", lin_confidence)"
      ],
      "execution_count": 87,
      "outputs": [
        {
          "output_type": "stream",
          "text": [
            "lin_confidence:  0.8345025516224708\n"
          ],
          "name": "stdout"
        }
      ]
    },
    {
      "cell_type": "code",
      "metadata": {
        "id": "2NXY7HA9VePW",
        "colab_type": "code",
        "colab": {
          "base_uri": "https://localhost:8080/",
          "height": 527
        },
        "outputId": "60d59d7e-1951-472c-e809-b017e8d0af0f"
      },
      "source": [
        "# Vetor linear foi Melhor que o Vetor de Suporte \n",
        "# Inserindo as ultimas 30 Linhas no 'x_forecast' do dataset orginal (Colunas de Adj. Close)\n",
        "x_forecast = np.array(df.drop(['Predição'],1))[-forecast_out:]\n",
        "print(x_forecast)\n"
      ],
      "execution_count": 88,
      "outputs": [
        {
          "output_type": "stream",
          "text": [
            "[[3.66237259]\n",
            " [3.51268411]\n",
            " [3.59251761]\n",
            " [3.47276735]\n",
            " [3.11351538]\n",
            " [3.23326612]\n",
            " [3.59251761]\n",
            " [3.83201909]\n",
            " [3.51268411]\n",
            " [3.32307911]\n",
            " [3.30312037]\n",
            " [3.26320386]\n",
            " [3.14345336]\n",
            " [2.96382713]\n",
            " [3.17708993]\n",
            " [3.04720879]\n",
            " [2.91732788]\n",
            " [2.86737347]\n",
            " [3.03721809]\n",
            " [2.93730974]\n",
            " [3.10715389]\n",
            " [2.99725461]\n",
            " [3.08717227]\n",
            " [3.30697083]\n",
            " [3.34693432]\n",
            " [3.57672381]\n",
            " [3.68662333]\n",
            " [3.55674219]\n",
            " [3.45683384]\n",
            " [3.63666916]]\n"
          ],
          "name": "stdout"
        }
      ]
    },
    {
      "cell_type": "code",
      "metadata": {
        "id": "_ve6ufSYVePc",
        "colab_type": "code",
        "colab": {
          "base_uri": "https://localhost:8080/",
          "height": 187
        },
        "outputId": "4ef1b688-de87-4f4c-de56-4c7d668cdfa1"
      },
      "source": [
        "# Mostrando o Modelo de Regressão Linear\n",
        "# Mostrando na tela as predições nos proximos 'x' dias\n",
        "lin_prediction = lin.predict(x_forecast)\n",
        "print(lin_prediction)\n",
        "\n",
        "# Mostrando o vetor de suporte regressor de predição dos proximos 'x' dias\n",
        "svm_prediction = svr_rbf.predict(x_forecast)\n",
        "print(svm_prediction)"
      ],
      "execution_count": 89,
      "outputs": [
        {
          "output_type": "stream",
          "text": [
            "[4.02413598 3.89291079 3.96289725 3.85791757 3.54297746 3.64795756\n",
            " 3.96289725 4.17285746 3.89291079 3.72669259 3.70919566 3.67420264\n",
            " 3.56922275 3.41175249 3.59871042 3.48484944 3.37098868 3.32719588\n",
            " 3.47609105 3.38850588 3.53740063 3.44105686 3.51988364 3.71257119\n",
            " 3.74760538 3.94905154 4.04539552 3.93153454 3.84394937 4.00160293]\n",
            "[3.80970086 3.72385049 3.76776035 3.70327095 3.53731597 3.59161154\n",
            " 3.76776035 3.9278928  3.72385049 3.63196963 3.62292813 3.60499706\n",
            " 3.55112724 3.46307883 3.56640951 3.50570224 3.43747399 3.40818844\n",
            " 3.5007851  3.44865943 3.53434954 3.48062425 3.52494811 3.6246675\n",
            " 3.64287433 3.75875416 3.82511912 3.74759373 3.69527795 3.79385374]\n"
          ],
          "name": "stdout"
        }
      ]
    },
    {
      "cell_type": "code",
      "metadata": {
        "id": "ClC_nbyqVePi",
        "colab_type": "code",
        "colab": {}
      },
      "source": [
        "# dia 02/06/2020 as ações ficaram em 3.9700. com isso pode-se inferir que o vetor de suporte saiu-se um pouco a frente\n",
        "# só lembrando que o suport ficou com um rate de 0.84 e o linear com 0.83"
      ],
      "execution_count": 0,
      "outputs": []
    }
  ]
}